{
 "cells": [
  {
   "cell_type": "code",
   "execution_count": 133,
   "id": "3d88cd2d",
   "metadata": {},
   "outputs": [],
   "source": [
    "import pandas as pd\n",
    "import numpy as np\n",
    "import matplotlib.pyplot as plt\n",
    "import warnings\n",
    "import functools "
   ]
  },
  {
   "cell_type": "code",
   "execution_count": 2,
   "id": "2fa118aa",
   "metadata": {},
   "outputs": [],
   "source": [
    "dfi = pd.read_csv('Inpatient_provdr.csv')\n",
    "dfo = pd.read_csv('Outpatient_provdr.csv')"
   ]
  },
  {
   "cell_type": "code",
   "execution_count": 143,
   "id": "52cb54ef",
   "metadata": {},
   "outputs": [
    {
     "name": "stdout",
     "output_type": "stream",
     "text": [
      "List of Top 10 Outpatient Procedures across the nation\n",
      "                                               APC\n",
      "0         0012 - Level I Debridement & Destruction\n",
      "1        0013 - Level II Debridement & Destruction\n",
      "2       0015 - Level III Debridement & Destruction\n",
      "3                  0019 - Level I Excision/ Biopsy\n",
      "4                 0020 - Level II Excision/ Biopsy\n",
      "5          0073 - Level III Endoscopy Upper Airway\n",
      "6           0074 - Level IV Endoscopy Upper Airway\n",
      "7             0078 - Level III Pulmonary Treatment\n",
      "8  0096 - Level II Noninvasive Physiologic Studies\n",
      "9                 0203 - Level IV Nerve Injections\n"
     ]
    }
   ],
   "source": [
    "top10 = dfo[['APC','Provider State','Average Total Payments']]\n",
    "top10 = top10.groupby(['APC']).mean().reset_index()\n",
    "top10 = top10[['APC']][:10]\n",
    "top10_list = top10['APC'].tolist()\n",
    "print(\"List of Top 10 Outpatient Procedures across the nation\")\n",
    "print(top10)"
   ]
  },
  {
   "cell_type": "code",
   "execution_count": 148,
   "id": "9f43d7b6",
   "metadata": {},
   "outputs": [
    {
     "name": "stdout",
     "output_type": "stream",
     "text": [
      "Comparing whether Top 10 expensive Outpatient procedures from the state are same with National top 10 procedures list \n",
      "\n",
      "AL and National top 10 Outpatient list are not same\n",
      "AK and National top 10 Outpatient list are not same\n",
      "AZ and National top 10 Outpatient list are same\n",
      "AR and National top 10 Outpatient list are same\n",
      "CA and National top 10 Outpatient list are same\n",
      "CO and National top 10 Outpatient list are same\n",
      "CT and National top 10 Outpatient list are not same\n",
      "DC and National top 10 Outpatient list are not same\n",
      "FL and National top 10 Outpatient list are same\n",
      "GA and National top 10 Outpatient list are not same\n",
      "HI and National top 10 Outpatient list are not same\n",
      "ID and National top 10 Outpatient list are not same\n",
      "IL and National top 10 Outpatient list are same\n",
      "IN and National top 10 Outpatient list are not same\n",
      "IA and National top 10 Outpatient list are not same\n",
      "KS and National top 10 Outpatient list are not same\n",
      "KY and National top 10 Outpatient list are same\n",
      "LA and National top 10 Outpatient list are same\n",
      "ME and National top 10 Outpatient list are same\n",
      "MA and National top 10 Outpatient list are same\n",
      "MI and National top 10 Outpatient list are same\n",
      "MN and National top 10 Outpatient list are same\n",
      "MS and National top 10 Outpatient list are not same\n",
      "MO and National top 10 Outpatient list are same\n",
      "MT and National top 10 Outpatient list are not same\n",
      "NE and National top 10 Outpatient list are not same\n",
      "NV and National top 10 Outpatient list are not same\n",
      "NH and National top 10 Outpatient list are not same\n",
      "NM and National top 10 Outpatient list are not same\n",
      "NY and National top 10 Outpatient list are same\n",
      "NC and National top 10 Outpatient list are same\n",
      "ND and National top 10 Outpatient list are same\n",
      "OH and National top 10 Outpatient list are same\n",
      "OK and National top 10 Outpatient list are not same\n",
      "OR and National top 10 Outpatient list are not same\n",
      "PA and National top 10 Outpatient list are same\n",
      "RI and National top 10 Outpatient list are not same\n",
      "SC and National top 10 Outpatient list are same\n",
      "SD and National top 10 Outpatient list are not same\n",
      "TN and National top 10 Outpatient list are same\n",
      "TX and National top 10 Outpatient list are same\n",
      "UT and National top 10 Outpatient list are same\n",
      "VT and National top 10 Outpatient list are same\n",
      "VA and National top 10 Outpatient list are same\n",
      "WA and National top 10 Outpatient list are not same\n",
      "WV and National top 10 Outpatient list are not same\n",
      "WI and National top 10 Outpatient list are same\n",
      "DE and National top 10 Outpatient list are not same\n",
      "NJ and National top 10 Outpatient list are not same\n",
      "WY and National top 10 Outpatient list are not same\n"
     ]
    }
   ],
   "source": [
    "states = dfo['Provider State'].unique()\n",
    "print(\"Comparing whether Top 10 expensive Outpatient procedures from the state are same with National top 10 procedures list \\n\")\n",
    "for state in states:\n",
    "    state_top10 = dfo[(dfo['Provider State'] == state)]\n",
    "    state_top10 = state_top10[['APC','Provider State','Average Total Payments']]\n",
    "    state_top10 = state_top10.groupby(['APC']).mean().reset_index()\n",
    "    state_top10 = state_top10[['APC']][:10]\n",
    "    state_top10_list = state_top10['APC'].tolist()\n",
    "    if functools.reduce(lambda x, y : x and y, map(lambda p, q: p == q,top10_list,state_top10_list), True): \n",
    "        print (state + \" and National top 10 Outpatient list are same\") \n",
    "    else:\n",
    "        print (state + \" and National top 10 Outpatient list are not same\") \n",
    "    \n",
    "    "
   ]
  },
  {
   "cell_type": "code",
   "execution_count": 139,
   "id": "3c6277dd",
   "metadata": {},
   "outputs": [
    {
     "name": "stdout",
     "output_type": "stream",
     "text": [
      "                                      DRG Definition\n",
      "0           039 - EXTRACRANIAL PROCEDURES W/O CC/MCC\n",
      "1  057 - DEGENERATIVE NERVOUS SYSTEM DISORDERS W/...\n",
      "2  064 - INTRACRANIAL HEMORRHAGE OR CEREBRAL INFA...\n",
      "3  065 - INTRACRANIAL HEMORRHAGE OR CEREBRAL INFA...\n",
      "4  066 - INTRACRANIAL HEMORRHAGE OR CEREBRAL INFA...\n",
      "5                           069 - TRANSIENT ISCHEMIA\n",
      "6  074 - CRANIAL & PERIPHERAL NERVE DISORDERS W/O...\n",
      "7                             101 - SEIZURES W/O MCC\n",
      "8                               149 - DYSEQUILIBRIUM\n",
      "9                   176 - PULMONARY EMBOLISM W/O MCC\n"
     ]
    }
   ],
   "source": [
    "top10 = dfi[['DRG Definition','Provider State','Average Total Payments']]\n",
    "top10 = top10.groupby(['DRG Definition']).mean().reset_index()\n",
    "top10 = top10[['DRG Definition']][:10]\n",
    "top10_list = top10['DRG Definition'].tolist()\n",
    "print(\"List of Top 10 Inpatient Procedures across the nation\")\n",
    "print(top10)"
   ]
  },
  {
   "cell_type": "code",
   "execution_count": 147,
   "id": "b97d7744",
   "metadata": {},
   "outputs": [
    {
     "name": "stdout",
     "output_type": "stream",
     "text": [
      "Comparing whether Top 10 expensive Outpatient procedures from the state are same with National top 10 procedures list \n",
      "\n",
      "AL and National top 10 Inpatient list are not same\n",
      "AK and National top 10 Inpatient list are not same\n",
      "AZ and National top 10 Inpatient list are not same\n",
      "AR and National top 10 Inpatient list are not same\n",
      "CA and National top 10 Inpatient list are not same\n",
      "CO and National top 10 Inpatient list are not same\n",
      "CT and National top 10 Inpatient list are not same\n",
      "DE and National top 10 Inpatient list are not same\n",
      "DC and National top 10 Inpatient list are not same\n",
      "FL and National top 10 Inpatient list are not same\n",
      "GA and National top 10 Inpatient list are not same\n",
      "HI and National top 10 Inpatient list are not same\n",
      "ID and National top 10 Inpatient list are not same\n",
      "IL and National top 10 Inpatient list are not same\n",
      "IN and National top 10 Inpatient list are not same\n",
      "IA and National top 10 Inpatient list are not same\n",
      "KS and National top 10 Inpatient list are not same\n",
      "KY and National top 10 Inpatient list are not same\n",
      "LA and National top 10 Inpatient list are not same\n",
      "ME and National top 10 Inpatient list are not same\n",
      "MD and National top 10 Inpatient list are not same\n",
      "MA and National top 10 Inpatient list are not same\n",
      "MI and National top 10 Inpatient list are not same\n",
      "MN and National top 10 Inpatient list are not same\n",
      "MS and National top 10 Inpatient list are not same\n",
      "MO and National top 10 Inpatient list are not same\n",
      "MT and National top 10 Inpatient list are not same\n",
      "NE and National top 10 Inpatient list are not same\n",
      "NV and National top 10 Inpatient list are not same\n",
      "NH and National top 10 Inpatient list are not same\n",
      "NJ and National top 10 Inpatient list are not same\n",
      "NM and National top 10 Inpatient list are not same\n",
      "NY and National top 10 Inpatient list are not same\n",
      "NC and National top 10 Inpatient list are not same\n",
      "ND and National top 10 Inpatient list are not same\n",
      "OH and National top 10 Inpatient list are not same\n",
      "OK and National top 10 Inpatient list are not same\n",
      "OR and National top 10 Inpatient list are not same\n",
      "PA and National top 10 Inpatient list are not same\n",
      "RI and National top 10 Inpatient list are not same\n",
      "SC and National top 10 Inpatient list are not same\n",
      "SD and National top 10 Inpatient list are not same\n",
      "TN and National top 10 Inpatient list are not same\n",
      "TX and National top 10 Inpatient list are not same\n",
      "UT and National top 10 Inpatient list are not same\n",
      "VT and National top 10 Inpatient list are not same\n",
      "VA and National top 10 Inpatient list are not same\n",
      "WA and National top 10 Inpatient list are not same\n",
      "WV and National top 10 Inpatient list are not same\n",
      "WI and National top 10 Inpatient list are not same\n",
      "WY and National top 10 Inpatient list are not same\n"
     ]
    }
   ],
   "source": [
    "states = dfi['Provider State'].unique()\n",
    "print(\"Comparing whether Top 10 expensive Outpatient procedures from the state are same with National top 10 procedures list \\n\")\n",
    "\n",
    "for state in states:\n",
    "    state_top10 = dfi[(dfi['Provider State'] == state)]\n",
    "    state_top10 = state_top10[['DRG Definition','Provider State','Average Total Payments']]\n",
    "    state_top10 = state_top10.groupby(['DRG Definition']).mean().reset_index()\n",
    "    state_top10 = state_top10[['DRG Definition']][:10]\n",
    "    state_top10_list = state_top10['DRG Definition'].tolist()\n",
    "    if functools.reduce(lambda x, y : x and y, map(lambda p, q: p == q,top10_list,state_top10_list), True): \n",
    "        print (state + \" and National top 10 Inpatient list are same\") \n",
    "    else:\n",
    "        print (state + \" and National top 10 Inpatient list are not same\") \n",
    "    "
   ]
  }
 ],
 "metadata": {
  "kernelspec": {
   "display_name": "Python 3 (ipykernel)",
   "language": "python",
   "name": "python3"
  },
  "language_info": {
   "codemirror_mode": {
    "name": "ipython",
    "version": 3
   },
   "file_extension": ".py",
   "mimetype": "text/x-python",
   "name": "python",
   "nbconvert_exporter": "python",
   "pygments_lexer": "ipython3",
   "version": "3.10.0"
  }
 },
 "nbformat": 4,
 "nbformat_minor": 5
}
